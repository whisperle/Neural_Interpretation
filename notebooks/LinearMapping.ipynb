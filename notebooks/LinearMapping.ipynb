{
 "cells": [
  {
   "cell_type": "code",
   "execution_count": 11,
   "metadata": {},
   "outputs": [
    {
     "name": "stdout",
     "output_type": "stream",
     "text": [
      "device: cuda\n",
      "The autoreload extension is already loaded. To reload it, use:\n",
      "  %reload_ext autoreload\n"
     ]
    }
   ],
   "source": [
    "data_path = \"/scratch/cl6707/Shared_Datasets/NSD_MindEye\"\n",
    "nsd_root = \"/scratch/cl6707/Projects/neuro_interp/data/NSD/\"\n",
    "stim_root = nsd_root + \"nsddata_stimuli/stimuli/nsd/\"\n",
    "beta_root = nsd_root + \"nsddata_betas/ppdata/\"\n",
    "mask_root = nsd_root + \"nsddata/ppdata/\"\n",
    "nsd_mindroot = '/scratch/cl6707/Shared_Datasets/NSD_MindEye'\n",
    "\n",
    "subj = 1\n",
    "import os\n",
    "os.environ[\"PROTOCOL_BUFFERS_PYTHON_IMPLEMENTATION\"] = \"python\"\n",
    "import sys\n",
    "sys.path.append('/scratch/cl6707/Projects/neuro_interp/data/NSD/nsd')\n",
    "import json\n",
    "import numpy as np\n",
    "import matplotlib.pyplot as plt\n",
    "import torch\n",
    "import torch.nn as nn\n",
    "from torchvision import transforms\n",
    "from tqdm.notebook import tqdm\n",
    "from datetime import datetime\n",
    "import webdataset as wds\n",
    "import PIL\n",
    "import argparse\n",
    "\n",
    "device = torch.device('cuda' if torch.cuda.is_available() else 'cpu')\n",
    "local_rank = 0\n",
    "print(\"device:\",device)\n",
    "\n",
    "import utils\n",
    "from models import Clipper, OpenClipper, BrainNetwork, BrainDiffusionPrior, BrainDiffusionPriorOld, Voxel2StableDiffusionModel, VersatileDiffusionPriorNetwork\n",
    "\n",
    "if utils.is_interactive():\n",
    "    %load_ext autoreload\n",
    "    %autoreload 2\n",
    "\n",
    "seed=42\n",
    "utils.seed_everything(seed=seed)\n",
    "\n",
    "from torch.utils.data import Dataset\n",
    "from src.file_utility import load_mask_from_nii, view_data\n",
    "from src.file_utility import save_stuff, flatten_dict, embed_dict\n",
    "%matplotlib inline\n",
    "fpX = np.float32\n",
    "import src.numpy_utility as pnu\n",
    "from src.file_utility import save_stuff, flatten_dict, embed_dict\n",
    "from src.file_utility import load_mask_from_nii, view_data\n",
    "from src.roi import roi_map, iterate_roi\n",
    "from src.load_nsd import  image_feature_fn, data_split\n",
    "import h5py\n",
    "import glob\n",
    "import torchvision.models as models\n",
    "from sklearn.decomposition import PCA\n",
    "from PIL import Image\n",
    "from src.numpy_utility import mosaic_vis, iterate_minibatches\n",
    "from nilearn.decoding import SpaceNetRegressor\n",
    "import nibabel as nib\n",
    "\n",
    "import tensorflow as tf\n",
    "import tensorflow_hub as hub\n",
    "guse = hub.load(\"https://tfhub.dev/google/universal-sentence-encoder/4\")"
   ]
  },
  {
   "cell_type": "code",
   "execution_count": 12,
   "metadata": {},
   "outputs": [],
   "source": [
    "subj =1\n",
    "voxel_roi_full  = load_mask_from_nii(mask_root + \"subj%02d/func1pt8mm/roi/prf-visualrois.nii.gz\"%subj)\n",
    "\n",
    "if subj == 1:\n",
    "    num_voxels = 15724\n",
    "elif subj == 2:\n",
    "    num_voxels = 14278\n",
    "elif subj == 3:\n",
    "    num_voxels = 15226\n",
    "elif subj == 4:\n",
    "    num_voxels = 13153\n",
    "elif subj == 5:\n",
    "    num_voxels = 13039\n",
    "elif subj == 6:\n",
    "    num_voxels = 17907\n",
    "elif subj == 7:\n",
    "    num_voxels = 12682\n",
    "elif subj == 8:\n",
    "    num_voxels = 14386"
   ]
  },
  {
   "cell_type": "code",
   "execution_count": 13,
   "metadata": {},
   "outputs": [
    {
     "name": "stdout",
     "output_type": "stream",
     "text": [
      "Pulling NSD webdataset data...\n",
      "PID of this process = 2997048\n",
      "device: cuda\n",
      "Distributed environment: NO\n",
      "Num processes: 1\n",
      "Process index: 0\n",
      "Local process index: 0\n",
      "Device: cuda\n",
      "\n",
      "Mixed precision type: fp16\n",
      "\n",
      "distributed = False num_devices = 1 local rank = 0 world size = 1\n",
      "{/scratch/cl6707/Shared_Datasets/NSD_MindEye/webdataset_avg_split/train/train_subj01_{0..17}.tar,/scratch/cl6707/Shared_Datasets/NSD_MindEye/webdataset_avg_split/val/val_subj01_0.tar} \n",
      " /scratch/cl6707/Shared_Datasets/NSD_MindEye/webdataset_avg_split/test/test_subj01_{0..1}.tar\n",
      "Prepping train and validation dataloaders...\n",
      "Getting dataloaders...\n",
      "\n",
      "num_train 8859\n",
      "global_batch_size 512\n",
      "batch_size 512\n",
      "num_workers 1\n",
      "num_batches 17\n",
      "num_worker_batches 17\n",
      "\n",
      "num_val 982\n",
      "val_num_batches 1\n",
      "val_batch_size 300\n"
     ]
    }
   ],
   "source": [
    "print('Pulling NSD webdataset data...')\n",
    "# Multi-GPU config #\n",
    "from accelerate import Accelerator\n",
    "accelerator = Accelerator(split_batches=False,mixed_precision='fp16')  \n",
    "print(\"PID of this process =\",os.getpid())\n",
    "print = accelerator.print # only print if local_rank=0\n",
    "device = accelerator.device\n",
    "print(\"device:\",device)\n",
    "num_devices = torch.cuda.device_count()\n",
    "if num_devices==0: num_devices = 1\n",
    "num_workers = num_devices\n",
    "print(accelerator.state)\n",
    "local_rank = accelerator.state.local_process_index\n",
    "world_size = accelerator.state.num_processes\n",
    "distributed = not accelerator.state.distributed_type == 'NO'\n",
    "print(\"distributed =\",distributed, \"num_devices =\", num_devices, \"local rank =\", local_rank, \"world size =\", world_size)\n",
    "\n",
    "\n",
    "\n",
    "train_url = \"{\" + f\"{data_path}/webdataset_avg_split/train/train_subj0{subj}_\" + \"{0..17}.tar,\" + f\"{data_path}/webdataset_avg_split/val/val_subj0{subj}_0.tar\" + \"}\"\n",
    "val_url = f\"{data_path}/webdataset_avg_split/test/test_subj0{subj}_\" + \"{0..1}.tar\"\n",
    "print(train_url,\"\\n\",val_url)\n",
    "meta_url = f\"{data_path}/webdataset_avg_split/metadata_subj0{subj}.json\"\n",
    "num_train = 8559 + 300\n",
    "num_val = 982\n",
    "batch_size = 512\n",
    "print('Prepping train and validation dataloaders...')\n",
    "train_dl, val_dl, num_train, num_val = utils.get_dataloaders(\n",
    "    batch_size,'images',\n",
    "    num_devices=num_devices,\n",
    "    num_workers=num_workers,\n",
    "    train_url=train_url,\n",
    "    val_url=val_url,\n",
    "    meta_url=meta_url,\n",
    "    num_train=num_train,\n",
    "    num_val=num_val,\n",
    "    val_batch_size=300,\n",
    "    cache_dir=data_path, #\"/tmp/wds-cache\",\n",
    "    seed=seed,\n",
    "    voxels_key='nsdgeneral.npy', # 'nsdgeneral.npy' (1d), 'wholebrain_3d.npy'(3d)\n",
    "    to_tuple=[\"voxels\", \"images\", \"coco\",\"trial\"],\n",
    "    local_rank=local_rank,\n",
    "    world_size=world_size,\n",
    ")"
   ]
  },
  {
   "cell_type": "code",
   "execution_count": 17,
   "metadata": {},
   "outputs": [],
   "source": [
    "annotation_all = np.load(nsd_mindroot + '/subj%02d_annot.npy'%subj,allow_pickle=True)\n",
    "nsdgeneral_affine = nib.load('/scratch/cl6707/Projects/neuro_interp/data/NSD/nsddata/ppdata/subj01/func1pt8mm/roi/nsdgeneral.nii.gz').affine\n",
    "nsdgeneral_roi_mask = nib.load('/scratch/cl6707/Projects/neuro_interp/data/NSD/nsddata/ppdata/subj01/func1pt8mm/roi/nsdgeneral.nii.gz').get_fdata()==1\n",
    "anat_img = '/scratch/cl6707/Projects/neuro_interp/data/NSD/nsddata/ppdata/subj01/func1pt8mm/T1_to_func1pt8mm.nii.gz'\n",
    "from transformers import GPT2Tokenizer, GPT2Model\n",
    "tokenizer_gpt = GPT2Tokenizer.from_pretrained('gpt2')\n",
    "tokenizer_gpt.pad_token = tokenizer_gpt.eos_token\n",
    "gpt = GPT2Model.from_pretrained('gpt2').to(device)\n",
    "gpt = gpt.eval()\n",
    "\n",
    "\n",
    "def reconstruct_volume_corrected(vol_shape, binary_mask, data_vol, order='C'):\n",
    "    \n",
    "    view_vol = np.ones(np.prod(vol_shape), dtype=np.float32) * np.nan\n",
    "    \n",
    "    idx_mask = np.where(binary_mask)[0]\n",
    "    \n",
    "    view_vol[idx_mask] = data_vol\n",
    "    return view_vol.reshape(vol_shape, order=order)\n",
    "\n",
    "@torch.no_grad()\n",
    "def get_guse(annotation):\n",
    "    B = annotation.shape[0]\n",
    "    annot_embed_all = np.zeros((B,512))\n",
    "    for b in range(B):\n",
    "        annot_embed = guse(annotation[b][0]).cpu().numpy()\n",
    "        corr_mat = np.corrcoef(annot_embed)\n",
    "        max_index = np.argmax(corr_mat.mean(axis=0),axis=0)\n",
    "        annot_embed_all[b] = annot_embed[max_index]\n",
    "    \n",
    "    return torch.tensor(annot_embed_all).to(device).float()\n",
    "\n",
    "@torch.no_grad()\n",
    "def get_gpt(annotation):\n",
    "    B = annotation.shape[0]\n",
    "    annot_embed_all = np.zeros((B,768))\n",
    "    for b in range(B):\n",
    "        encoded_input = tokenizer_gpt(annotation[b][0], padding=True, truncation=True,return_tensors='pt').to(device)\n",
    "        output = gpt(**encoded_input)\n",
    "        annot_embed = output.last_hidden_state.mean(dim=1).cpu().numpy()\n",
    "        corr_mat = np.corrcoef(annot_embed)\n",
    "        max_index = np.argmax(corr_mat.mean(axis=0),axis=0)\n",
    "        annot_embed_all[b] = annot_embed[max_index]\n",
    "    \n",
    "    return torch.tensor(annot_embed_all).to(device).float()\n",
    "\n"
   ]
  },
  {
   "cell_type": "markdown",
   "metadata": {},
   "source": [
    "# Models"
   ]
  },
  {
   "cell_type": "markdown",
   "metadata": {},
   "source": [
    "## Linear Mapping Model"
   ]
  },
  {
   "cell_type": "code",
   "execution_count": 6,
   "metadata": {},
   "outputs": [],
   "source": [
    "import torch\n",
    "import torch.nn as nn\n",
    "\n",
    "class LinearModel(nn.Module):\n",
    "    def __init__(self, input_size, output_size, alpha, l1_ratio, graph_structure):\n",
    "        super(LinearModel, self).__init__()\n",
    "        self.linear = nn.Linear(input_size, output_size)\n",
    "        self.alpha = alpha\n",
    "        self.l1_ratio = l1_ratio\n",
    "        self.graph_structure = graph_structure\n",
    "\n",
    "    def forward(self, x):\n",
    "        return self.linear(x)\n",
    "\n",
    "    def tv_l1_regularization(self):\n",
    "        weights = self.linear.weight\n",
    "        grad_x = torch.abs(weights[:, 1:] - weights[:, :-1])\n",
    "        grad_y = torch.abs(weights[1:, :] - weights[:-1, :])\n",
    "        tv_norm = torch.sum(grad_x) + torch.sum(grad_y)\n",
    "        l1_norm = torch.sum(torch.abs(weights))\n",
    "        return self.l1_ratio * tv_norm + (1 - self.l1_ratio) * l1_norm"
   ]
  },
  {
   "cell_type": "code",
   "execution_count": 11,
   "metadata": {},
   "outputs": [
    {
     "name": "stderr",
     "output_type": "stream",
     "text": [
      "100%|██████████| 10/10 [16:33<00:00, 99.34s/it]\n"
     ]
    }
   ],
   "source": [
    "model = LinearModel(num_voxels, 512,1,0.5, None)\n",
    "model.to(device)\n",
    "\n",
    "optimizer = torch.optim.Adam(model.parameters(), lr=1e-3)\n",
    "criterion = nn.MSELoss()\n",
    "\n",
    "from scipy.stats import pearsonr\n",
    "loss_dict_train = {'tv_l1':[],\n",
    "                'mse':[]\n",
    "                }\n",
    "tv_weight = 1e-3\n",
    "pcc_list_train = []\n",
    "\n",
    "epoch_num = 10\n",
    "for epoch in tqdm(range(epoch_num)):\n",
    "    for voxels, images, coco, trial in train_dl:\n",
    "        pcc_all = []\n",
    "        voxels = voxels.float().to(device)\n",
    "        voxels = voxels.mean(axis=1)\n",
    "        guse_embed = get_guse(annotation_all[trial])\n",
    "        optimizer.zero_grad()\n",
    "        outputs = model(voxels)\n",
    "        tv_l1 = model.tv_l1_regularization()\n",
    "        mse = criterion(outputs, guse_embed)\n",
    "        loss_dict_train['tv_l1'].append(tv_l1.item()*tv_weight)\n",
    "        loss_dict_train['mse'].append(mse.item())\n",
    "        loss = mse + tv_weight*tv_l1\n",
    "        loss.backward() \n",
    "        optimizer.step()\n",
    "        # calculte PCC between outputs and guse_embed\n",
    "        pcc = [pearsonr(outputs[i].detach().cpu().numpy(), guse_embed[i].detach().cpu().numpy(),)[0] for i in range(len(outputs))]\n",
    "        pcc_all += pcc\n",
    "    pcc_list_train.append(np.mean(pcc_all))"
   ]
  },
  {
   "cell_type": "code",
   "execution_count": 12,
   "metadata": {},
   "outputs": [
    {
     "name": "stdout",
     "output_type": "stream",
     "text": [
      "Val PCC: 0.45475639118905836\n"
     ]
    }
   ],
   "source": [
    "loss_dict_val = {'tv_l1':[],\n",
    "                'mse':[]\n",
    "                }\n",
    "pcc_list_val = []\n",
    "\n",
    "model.eval()\n",
    "for voxels, images, coco, trial in val_dl:\n",
    "    voxels = voxels.float().to(device)\n",
    "    voxels = voxels.mean(axis=1)\n",
    "    guse_embed = get_guse(annotation_all[trial])\n",
    "    outputs = model(voxels)\n",
    "    tv_l1 = model.tv_l1_regularization()\n",
    "    mse = criterion(outputs, guse_embed)\n",
    "    loss_dict_val['tv_l1'].append(tv_l1.item())\n",
    "    loss_dict_val['mse'].append(mse.item())\n",
    "    loss = mse + tv_weight*tv_l1\n",
    "    # calculte PCC between outputs and guse_embed\n",
    "    pcc = [pearsonr(outputs[i].detach().cpu().numpy(), guse_embed[i].detach().cpu().numpy(),)[0] for i in range(len(outputs))]\n",
    "    pcc_list_val += pcc\n",
    "\n",
    "print('Val PCC:',np.mean(pcc_list_val))\n",
    "# save model\n",
    "torch.save(model.state_dict(), './output/subj%02d_linear_model.pt'%subj)"
   ]
  },
  {
   "cell_type": "markdown",
   "metadata": {},
   "source": [
    "### Visualize weight"
   ]
  },
  {
   "cell_type": "code",
   "execution_count": 9,
   "metadata": {},
   "outputs": [
    {
     "data": {
      "text/plain": [
       "<nilearn.plotting.displays._slicers.OrthoSlicer at 0x7f3b1c530790>"
      ]
     },
     "execution_count": 9,
     "metadata": {},
     "output_type": "execute_result"
    },
    {
     "data": {
      "image/png": "[encoded data removed]",
      "text/plain": [
       "<Figure size 730x350 with 5 Axes>"
      ]
     },
     "metadata": {},
     "output_type": "display_data"
    }
   ],
   "source": [
    "weights = model.linear.weight.detach().cpu().numpy()\n",
    "weights = weights.mean(axis=0)\n",
    "voxel_weight = weights\n",
    "reconstructed_weight = reconstruct_volume_corrected(nsdgeneral_roi_mask.shape, nsdgeneral_roi_mask.flatten(), voxel_weight)\n",
    "reconstructed_weight = np.nan_to_num(reconstructed_weight)\n",
    "ni_img = nib.Nifti1Image(reconstructed_weight,affine=nsdgeneral_affine)\n",
    "from nilearn.plotting import plot_stat_map\n",
    "plot_stat_map(ni_img,\n",
    "                bg_img=anat_img,\n",
    "                    cmap='hot')"
   ]
  },
  {
   "cell_type": "markdown",
   "metadata": {},
   "source": [
    "### oclussion on voxel"
   ]
  },
  {
   "cell_type": "code",
   "execution_count": null,
   "metadata": {},
   "outputs": [],
   "source": [
    "# weights for each voxel\n",
    "weights = model.linear.weight.detach().cpu().numpy()\n",
    "weights = weights.mean(axis=0)\n",
    "voxel_weight = weights\n",
    "# get top 10 voxels by absolute value\n",
    "top_n = 10\n",
    "top_voxel = np.argsort(np.abs(voxel_weight))[::-1][:top_n]\n",
    "model_voxels = {voxel_pos:LinearModel(num_voxels, 512,1,0.5, None) for voxel_pos in top_voxel}\n",
    "optimizer_voxels = {voxel_pos:torch.optim.Adam(model_voxels[voxel_pos].parameters(), lr=1e-3) for voxel_pos in top_voxel}\n",
    "# for each voxel in the top10, mask out it and train the model again, see if the performance drops\n",
    "pcc_voxel_dict = {}\n",
    "\n",
    "for voxel_pos in tqdm(top_voxel):\n",
    "    model_voxels[voxel_pos].to(device)\n",
    "    for epoch in tqdm(range(epoch_num)):\n",
    "        for voxels, images, coco, trial in train_dl:\n",
    "            pcc_all = []\n",
    "            voxels = voxels.float().to(device)\n",
    "            voxels = voxels.mean(axis=1)\n",
    "            guse_embed = get_guse(annotation_all[trial])\n",
    "            optimizer_voxels[voxel_pos].zero_grad()\n",
    "            outputs = model_voxels[voxel_pos](voxels)\n",
    "            tv_l1 = model_voxels[voxel_pos].tv_l1_regularization()\n",
    "            mse = criterion(outputs, guse_embed)\n",
    "            loss_dict_train['tv_l1'].append(tv_l1.item()*tv_weight)\n",
    "            loss_dict_train['mse'].append(mse.item())\n",
    "            loss = mse + tv_weight*tv_l1\n",
    "            loss.backward() \n",
    "            optimizer_voxels[voxel_pos].step()\n",
    "            # calculte PCC between outputs and guse_embed\n",
    "            pcc = [pearsonr(outputs[i].detach().cpu().numpy(), guse_embed[i].detach().cpu().numpy(),)[0] for i in range(len(outputs))]\n",
    "            pcc_all += pcc\n",
    "        pcc_list_train.append(np.mean(pcc_all))\n",
    "    \n",
    "    loss_dict_val = {'tv_l1':[],\n",
    "                    'mse':[]\n",
    "                    }\n",
    "    pcc_list_val = []\n",
    "\n",
    "    model_voxels[voxel_pos].eval()\n",
    "    for voxels, images, coco, trial in val_dl:\n",
    "        voxels = voxels.float().to(device)\n",
    "        voxels = voxels.mean(axis=1)\n",
    "        guse_embed = get_guse(annotation_all[trial])\n",
    "        outputs = model_voxels[voxel_pos](voxels)\n",
    "        tv_l1 = model_voxels[voxel_pos].tv_l1_regularization()\n",
    "        mse = criterion(outputs, guse_embed)\n",
    "        loss_dict_val['tv_l1'].append(tv_l1.item())\n",
    "        loss_dict_val['mse'].append(mse.item())\n",
    "        loss = mse + tv_weight*tv_l1\n",
    "        # calculte PCC between outputs and guse_embed\n",
    "        pcc = [pearsonr(outputs[i].detach().cpu().numpy(), guse_embed[i].detach().cpu().numpy(),)[0] for i in range(len(outputs))]\n",
    "        pcc_list_val += pcc\n",
    "\n",
    "    print('Val PCC:',np.mean(pcc_list_val))\n",
    "    pcc_voxel_dict[voxel_pos] = np.mean(pcc_list_val)\n",
    "    # save model\n",
    "    torch.save(model_voxels[voxel_pos].state_dict(), './output/voxel_occlusion/subj%02d_linear_model_voxel%02d.pt'%(subj,voxel_pos))xw"
   ]
  },
  {
   "cell_type": "markdown",
   "metadata": {},
   "source": [
    "## MLP Model for regression"
   ]
  },
  {
   "cell_type": "code",
   "execution_count": 15,
   "metadata": {},
   "outputs": [],
   "source": [
    "from functools import partial\n",
    "class BrainNetwork_MLP(nn.Module):\n",
    "    def __init__(self, out_dim=512, in_dim=15724, h=4096, n_blocks=4, norm_type='ln', act_first=False):\n",
    "        super().__init__()\n",
    "        norm_func = partial(nn.BatchNorm1d, num_features=h) if norm_type == 'bn' else partial(nn.LayerNorm, normalized_shape=h)\n",
    "        act_fn = partial(nn.ReLU, inplace=True) if norm_type == 'bn' else nn.GELU\n",
    "        act_and_norm = (act_fn, norm_func) if act_first else (norm_func, act_fn)\n",
    "        self.lin0 = nn.Sequential(\n",
    "            nn.Linear(in_dim, h),\n",
    "            *[item() for item in act_and_norm],\n",
    "            nn.Dropout(0.5),\n",
    "        )\n",
    "        self.mlp = nn.ModuleList([\n",
    "            nn.Sequential(\n",
    "                nn.Linear(h, h),\n",
    "                *[item() for item in act_and_norm],\n",
    "                nn.Dropout(0.15)\n",
    "            ) for _ in range(n_blocks)\n",
    "        ])\n",
    "        self.lin1 = nn.Linear(h, out_dim, bias=True)\n",
    "        self.n_blocks = n_blocks\n",
    "\n",
    "        \n",
    "    def forward(self, x):\n",
    "        '''\n",
    "            bs, 1, 15724 -> bs, 32, h\n",
    "            bs, 32, h -> bs, 32h\n",
    "            b2, 32h -> bs, 768\n",
    "        '''\n",
    "        if x.ndim == 4:\n",
    "            # case when we passed 3D data of shape [N, 81, 104, 83]\n",
    "            assert x.shape[1] == 81 and x.shape[2] == 104 and x.shape[3] == 83\n",
    "            # [N, 699192]\n",
    "            x = x.reshape(x.shape[0], -1)\n",
    "\n",
    "        x = self.lin0(x)  # bs, h\n",
    "        residual = x\n",
    "        for res_block in range(self.n_blocks):\n",
    "            x = self.mlp[res_block](x)\n",
    "            x += residual\n",
    "            residual = x\n",
    "        x = x.reshape(len(x), -1)\n",
    "        x = self.lin1(x)\n",
    "        return x"
   ]
  },
  {
   "cell_type": "code",
   "execution_count": 18,
   "metadata": {},
   "outputs": [
    {
     "data": {
      "text/html": [
       "Finishing last run (ID:1yalr8no) before initializing another..."
      ],
      "text/plain": [
       "<IPython.core.display.HTML object>"
      ]
     },
     "metadata": {},
     "output_type": "display_data"
    },
    {
     "data": {
      "text/html": [
       "Waiting for W&B process to finish... <strong style=\"color:green\">(success).</strong>"
      ],
      "text/plain": [
       "<IPython.core.display.HTML object>"
      ]
     },
     "metadata": {},
     "output_type": "display_data"
    },
    {
     "data": {
      "application/vnd.jupyter.widget-view+json": {
       "model_id": "53c6c2ee497c4496877c2266794431fb",
       "version_major": 2,
       "version_minor": 0
      },
      "text/plain": [
       "VBox(children=(Label(value='0.001 MB of 0.001 MB uploaded (0.000 MB deduped)\\r'), FloatProgress(value=1.0, max…"
      ]
     },
     "metadata": {},
     "output_type": "display_data"
    },
    {
     "data": {
      "text/html": [
       "Synced <strong style=\"color:#cdcd00\">mlp_subj01</strong>: <a href=\"https://wandb.ai/cl6707/nsd_mind/runs/1yalr8no\" target=\"_blank\">https://wandb.ai/cl6707/nsd_mind/runs/1yalr8no</a><br/>Synced 5 W&B file(s), 0 media file(s), 0 artifact file(s) and 0 other file(s)"
      ],
      "text/plain": [
       "<IPython.core.display.HTML object>"
      ]
     },
     "metadata": {},
     "output_type": "display_data"
    },
    {
     "data": {
      "text/html": [
       "Find logs at: <code>./wandb/run-20231201_021600-1yalr8no/logs</code>"
      ],
      "text/plain": [
       "<IPython.core.display.HTML object>"
      ]
     },
     "metadata": {},
     "output_type": "display_data"
    },
    {
     "data": {
      "text/html": [
       "Successfully finished last run (ID:1yalr8no). Initializing new run:<br/>"
      ],
      "text/plain": [
       "<IPython.core.display.HTML object>"
      ]
     },
     "metadata": {},
     "output_type": "display_data"
    },
    {
     "data": {
      "text/html": [
       "wandb version 0.16.0 is available!  To upgrade, please run:\n",
       " $ pip install wandb --upgrade"
      ],
      "text/plain": [
       "<IPython.core.display.HTML object>"
      ]
     },
     "metadata": {},
     "output_type": "display_data"
    },
    {
     "data": {
      "text/html": [
       "Tracking run with wandb version 0.12.21"
      ],
      "text/plain": [
       "<IPython.core.display.HTML object>"
      ]
     },
     "metadata": {},
     "output_type": "display_data"
    },
    {
     "data": {
      "text/html": [
       "Run data is saved locally in <code>/scratch/cl6707/Projects/neuro_interp/Neural_Interpretation/notebooks/wandb/run-20231201_021709-rohdholm</code>"
      ],
      "text/plain": [
       "<IPython.core.display.HTML object>"
      ]
     },
     "metadata": {},
     "output_type": "display_data"
    },
    {
     "data": {
      "text/html": [
       "Syncing run <strong><a href=\"https://wandb.ai/cl6707/nsd_mind/runs/rohdholm\" target=\"_blank\">mlp_subj01</a></strong> to <a href=\"https://wandb.ai/cl6707/nsd_mind\" target=\"_blank\">Weights & Biases</a> (<a href=\"https://wandb.me/run\" target=\"_blank\">docs</a>)<br/>"
      ],
      "text/plain": [
       "<IPython.core.display.HTML object>"
      ]
     },
     "metadata": {},
     "output_type": "display_data"
    },
    {
     "data": {
      "application/vnd.jupyter.widget-view+json": {
       "model_id": "623d014e12b24d9bbc120b27e78e1051",
       "version_major": 2,
       "version_minor": 0
      },
      "text/plain": [
       "  0%|          | 0/50 [00:00<?, ?it/s]"
      ]
     },
     "metadata": {},
     "output_type": "display_data"
    },
    {
     "name": "stdout",
     "output_type": "stream",
     "text": [
      "WARNING:tensorflow:From /tmp/ipykernel_2997048/2496813156.py:26: _EagerTensorBase.cpu (from tensorflow.python.framework.ops) is deprecated and will be removed in a future version.\n",
      "Instructions for updating:\n",
      "Use tf.identity with explicit device placement instead.\n"
     ]
    },
    {
     "name": "stderr",
     "output_type": "stream",
     "text": [
      "WARNING:tensorflow:From /tmp/ipykernel_2997048/2496813156.py:26: _EagerTensorBase.cpu (from tensorflow.python.framework.ops) is deprecated and will be removed in a future version.\n",
      "Instructions for updating:\n",
      "Use tf.identity with explicit device placement instead.\n"
     ]
    }
   ],
   "source": [
    "import torch\n",
    "import wandb\n",
    "from scipy.stats import pearsonr\n",
    "import numpy as np\n",
    "\n",
    "\n",
    "model = BrainNetwork_MLP(out_dim=512, in_dim=num_voxels, h=4096, n_blocks=4, norm_type='ln', act_first=False)\n",
    "model.to(device)\n",
    "max_lr = 3e-4\n",
    "# Training parameters\n",
    "num_epochs = 50\n",
    "optimizer = torch.optim.AdamW(model.parameters(), lr=max_lr)\n",
    "global_batch_size = batch_size * num_devices\n",
    "\n",
    "# LR scheduler setup\n",
    "total_steps = int(num_epochs * (num_train // global_batch_size))\n",
    "lr_scheduler = torch.optim.lr_scheduler.OneCycleLR(\n",
    "    optimizer,\n",
    "    max_lr=max_lr,\n",
    "    total_steps=total_steps,\n",
    "    final_div_factor=1000,\n",
    "    last_epoch=-1,\n",
    "    pct_start=2 / num_epochs\n",
    ")\n",
    "\n",
    "# Loss function\n",
    "criterion = nn.MSELoss()\n",
    "\n",
    "# Initialize Weights & Biases\n",
    "wandb.init(project=\"nsd_mind\", entity=\"cl6707\",name='mlp_subj%02d'%subj)\n",
    "\n",
    "# Metrics storage\n",
    "loss_dict_train = {'mse': []}\n",
    "pcc_list_train = []\n",
    "loss_dict_val = {'mse': []}\n",
    "pcc_list_val = []\n",
    "max_pcc_val = 0\n",
    "\n",
    "# Training loop\n",
    "for epoch in tqdm(range(num_epochs)):\n",
    "    model.train()\n",
    "    total_train_loss = 0\n",
    "    total_train_pcc = 0\n",
    "    num_train_batches = 0\n",
    "\n",
    "    for voxels, images, coco, trial in train_dl:\n",
    "        voxels = voxels.float().to(device)\n",
    "        voxels = voxels.mean(axis=1)\n",
    "        guse_embed = get_guse(annotation_all[trial])\n",
    "        optimizer.zero_grad()\n",
    "        outputs = model(voxels)\n",
    "        mse = criterion(outputs, guse_embed)\n",
    "        loss = mse\n",
    "        loss.backward()\n",
    "        optimizer.step()\n",
    "        lr_scheduler.step()\n",
    "        \n",
    "        pcc = [pearsonr(outputs[i].detach().cpu().numpy(), guse_embed[i].detach().cpu().numpy())[0] for i in range(len(outputs))]\n",
    "        total_train_loss += mse.item()\n",
    "        total_train_pcc += np.mean(pcc)\n",
    "        num_train_batches += 1\n",
    "\n",
    "    avg_train_loss = total_train_loss / num_train_batches\n",
    "    avg_train_pcc = total_train_pcc / num_train_batches\n",
    "    wandb.log({'epoch': epoch, 'train_loss': avg_train_loss, 'train_pcc': avg_train_pcc})\n",
    "\n",
    "    # Validation loop\n",
    "    model.eval()\n",
    "    total_val_loss = 0\n",
    "    total_val_pcc = 0\n",
    "    num_val_batches = 0\n",
    "\n",
    "    with torch.no_grad():\n",
    "        for voxels, images, coco, trial in val_dl:\n",
    "            voxels = voxels.float().to(device)\n",
    "            voxels = voxels.mean(axis=1)\n",
    "            guse_embed = get_guse(annotation_all[trial])\n",
    "            outputs = model(voxels)\n",
    "            mse = criterion(outputs, guse_embed)\n",
    "            pcc = [pearsonr(outputs[i].detach().cpu().numpy(), guse_embed[i].detach().cpu().numpy())[0] for i in range(len(outputs))]\n",
    "            total_val_loss += mse.item()\n",
    "            total_val_pcc += np.mean(pcc)\n",
    "            num_val_batches += 1\n",
    "\n",
    "    avg_val_loss = total_val_loss / num_val_batches\n",
    "    avg_val_pcc = total_val_pcc / num_val_batches\n",
    "    wandb.log({'epoch': epoch, 'val_loss': avg_val_loss, 'val_pcc': avg_val_pcc})\n",
    "\n",
    "    if avg_val_pcc > max_pcc_val:\n",
    "        max_pcc_val = avg_val_pcc\n",
    "        torch.save(model.state_dict(), './output/subj%02d_mlp_model.pt' % subj)\n",
    "\n",
    "wandb.finish()"
   ]
  },
  {
   "cell_type": "code",
   "execution_count": null,
   "metadata": {},
   "outputs": [],
   "source": [
    "from captum.attr import IntegratedGradients\n",
    "\n",
    "def get_attribution(model, input, target, baseline=None, additional_forward_args=None):\n",
    "    model.zero_grad()\n",
    "    ig = IntegratedGradients(model)\n",
    "    attr = ig.attribute(input, target=target, baselines=baseline, additional_forward_args=additional_forward_args)\n",
    "    return attr\n",
    "\n",
    "attr = get_attribution(model, voxels, guse_embed, baseline=None, additional_forward_args=None)"
   ]
  }
 ],
 "metadata": {
  "kernelspec": {
   "display_name": "ivp",
   "language": "python",
   "name": "ivp"
  }
 },
 "nbformat": 4,
 "nbformat_minor": 2
}
