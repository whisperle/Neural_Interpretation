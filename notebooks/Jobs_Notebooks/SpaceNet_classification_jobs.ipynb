{
 "cells": [
  {
   "cell_type": "code",
   "execution_count": 1,
   "metadata": {},
   "outputs": [],
   "source": [
    "import numpy as np\n",
    "import os"
   ]
  },
  {
   "cell_type": "code",
   "execution_count": 2,
   "metadata": {},
   "outputs": [],
   "source": [
    "def generate_sbatch_LinearMapping(\n",
    "    job_name='NI_LM',\n",
    "    hour=24,\n",
    "    minute=0,\n",
    "    gpu='',\n",
    "    output_dir_base='/scratch/cl6707/Projects/neuro_interp/jobs',\n",
    "    script_name='SpaceNet_Classification.py',\n",
    "    subj=1,mask_id=1,\n",
    "    additional_args=None):\n",
    "    \n",
    "    # Set up the base output directory and script path\n",
    "    output_dir = os.path.join(output_dir_base, job_name)\n",
    "    os.makedirs(output_dir, exist_ok=True)\n",
    "\n",
    "    # Start constructing the sbatch script\n",
    "    text = '#!/bin/bash\\n\\n'\n",
    "    text += f'#SBATCH --job-name={job_name}\\n'\n",
    "    text += '#SBATCH --nodes=1\\n'\n",
    "    text += '#SBATCH --cpus-per-task=1\\n'\n",
    "    text += '#SBATCH --mem=64GB\\n'\n",
    "    text += f'#SBATCH --time={hour}:{minute}:00\\n'\n",
    "    # text += f'#SBATCH --gres=gpu:{gpu}1\\n'\n",
    "    text += 'overlay_ext3=/scratch/cl6707/dl-env/ivp.ext3\\n'\n",
    "    text += 'singularity exec --nv \\\\\\n'\n",
    "    text += '    --overlay ${overlay_ext3}:ro \\\\\\n'\n",
    "    text += '    /scratch/work/public/singularity/cuda11.0-cudnn8-devel-ubuntu18.04.sif \\\\\\n'\n",
    "    text += '    /bin/bash -c \"\\n'\n",
    "    text += 'source /ext3/env.sh\\n'\n",
    "    text += 'cd /scratch/cl6707/Projects/neuro_interp/Neural_Interpretation/bin\\n'\n",
    "    \n",
    "    output_dir = f'/scratch/cl6707/Projects/neuro_interp/output/spaceNet_subj{subj}_mask{mask_id}'\n",
    "    os.makedirs(output_dir, exist_ok=True)\n",
    "    # Command to run the Python script with arguments\n",
    "    python_command = f'python {script_name} '\n",
    "    python_command += f'--output_dir {output_dir} --subj {subj} --mask_id {mask_id} '\n",
    "\n",
    "    \n",
    "    text += python_command + '\"\\n'\n",
    "\n",
    "    # Save the sbatch script to a file\n",
    "    job_file = f'/scratch/cl6707/Projects/neuro_interp/jobs/spaceNet_subj{subj}_mask{mask_id}.sh'\n",
    "    f = open(job_file, 'w+')\n",
    "    f.write(text)\n",
    "    f.close()\n",
    "    print(f'sbatch {job_file}')\n",
    "    return '\\n'.join(text.split('\\n')[-3:])[:-2] +'\\n'\n"
   ]
  },
  {
   "cell_type": "markdown",
   "metadata": {},
   "source": [
    "## mask ablation"
   ]
  },
  {
   "cell_type": "code",
   "execution_count": 3,
   "metadata": {},
   "outputs": [
    {
     "name": "stdout",
     "output_type": "stream",
     "text": [
      "sbatch /scratch/cl6707/Projects/neuro_interp/jobs/spaceNet_subj1_mask0.sh\n",
      "sbatch /scratch/cl6707/Projects/neuro_interp/jobs/spaceNet_subj1_mask1.sh\n",
      "sbatch /scratch/cl6707/Projects/neuro_interp/jobs/spaceNet_subj1_mask2.sh\n",
      "sbatch /scratch/cl6707/Projects/neuro_interp/jobs/spaceNet_subj1_mask3.sh\n",
      "sbatch /scratch/cl6707/Projects/neuro_interp/jobs/spaceNet_subj1_mask4.sh\n",
      "sbatch /scratch/cl6707/Projects/neuro_interp/jobs/spaceNet_subj1_mask5.sh\n",
      "sbatch /scratch/cl6707/Projects/neuro_interp/jobs/spaceNet_subj1_mask6.sh\n",
      "sbatch /scratch/cl6707/Projects/neuro_interp/jobs/spaceNet_subj1_mask7.sh\n",
      "sbatch /scratch/cl6707/Projects/neuro_interp/jobs/spaceNet_subj1_mask8.sh\n",
      "sbatch /scratch/cl6707/Projects/neuro_interp/jobs/spaceNet_subj1_mask9.sh\n",
      "sbatch /scratch/cl6707/Projects/neuro_interp/jobs/spaceNet_subj1_mask10.sh\n",
      "sbatch /scratch/cl6707/Projects/neuro_interp/jobs/spaceNet_subj1_mask11.sh\n",
      "sbatch /scratch/cl6707/Projects/neuro_interp/jobs/spaceNet_subj1_mask12.sh\n",
      "sbatch /scratch/cl6707/Projects/neuro_interp/jobs/spaceNet_subj1_mask13.sh\n",
      "sbatch /scratch/cl6707/Projects/neuro_interp/jobs/spaceNet_subj1_mask14.sh\n",
      "sbatch /scratch/cl6707/Projects/neuro_interp/jobs/spaceNet_subj1_mask15.sh\n",
      "sbatch /scratch/cl6707/Projects/neuro_interp/jobs/spaceNet_subj1_mask16.sh\n",
      "sbatch /scratch/cl6707/Projects/neuro_interp/jobs/spaceNet_subj1_mask17.sh\n",
      "sbatch /scratch/cl6707/Projects/neuro_interp/jobs/spaceNet_subj1_mask18.sh\n",
      "sbatch /scratch/cl6707/Projects/neuro_interp/jobs/spaceNet_subj1_mask19.sh\n"
     ]
    }
   ],
   "source": [
    "for subj in [1]:\n",
    "    for mask_id in range(20):\n",
    "        generate_sbatch_LinearMapping(subj=subj,mask_id=mask_id)"
   ]
  }
 ],
 "metadata": {
  "kernelspec": {
   "display_name": "Python 3",
   "language": "python",
   "name": "python3"
  },
  "language_info": {
   "codemirror_mode": {
    "name": "ipython",
    "version": 3
   },
   "file_extension": ".py",
   "mimetype": "text/x-python",
   "name": "python",
   "nbconvert_exporter": "python",
   "pygments_lexer": "ipython3",
   "version": "3.10.13"
  }
 },
 "nbformat": 4,
 "nbformat_minor": 2
}
