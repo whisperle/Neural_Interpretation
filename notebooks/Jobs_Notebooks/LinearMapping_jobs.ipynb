{
 "cells": [
  {
   "cell_type": "code",
   "execution_count": 3,
   "metadata": {},
   "outputs": [],
   "source": [
    "import numpy as np\n",
    "import os\n",
    "\n",
    "def generate_sbatch_LinearMapping(\n",
    "    job_name='NI_LM',\n",
    "    hour=24,\n",
    "    minute=0,\n",
    "    gpu='',\n",
    "    output_dir_base='/scratch/cl6707/Projects/neuro_interp/jobs',\n",
    "    script_name='LinearRegressionMapping.py',\n",
    "    load_mask=0,subj=1,mask_id=0,tvl1_weight=1e-3,epoch_num=10,text_embed='guse',\n",
    "    additional_args=None):\n",
    "    \n",
    "    # Set up the base output directory and script path\n",
    "    output_dir = os.path.join(output_dir_base, job_name)\n",
    "    os.makedirs(output_dir, exist_ok=True)\n",
    "\n",
    "    # Start constructing the sbatch script\n",
    "    text = '#!/bin/bash\\n\\n'\n",
    "    text += f'#SBATCH --job-name={job_name}\\n'\n",
    "    text += '#SBATCH --nodes=1\\n'\n",
    "    text += '#SBATCH --cpus-per-task=1\\n'\n",
    "    text += '#SBATCH --mem=36GB\\n'\n",
    "    text += f'#SBATCH --time={hour}:{minute}:00\\n'\n",
    "    text += f'#SBATCH --gres=gpu:{gpu}1\\n'\n",
    "    text += 'overlay_ext3=/scratch/cl6707/dl-env/ivp.ext3\\n'\n",
    "    text += 'singularity exec --nv \\\\\\n'\n",
    "    text += '    --overlay ${overlay_ext3}:ro \\\\\\n'\n",
    "    text += '    /scratch/work/public/singularity/cuda11.0-cudnn8-devel-ubuntu18.04.sif \\\\\\n'\n",
    "    text += '    /bin/bash -c \"\\n'\n",
    "    text += 'source /ext3/env.sh\\n'\n",
    "    text += 'cd /scratch/cl6707/Projects/neuro_interp/Neural_Interpretation/bin\\n'\n",
    "    \n",
    "    output_dir = f'/scratch/cl6707/Projects/neuro_interp/output/LinearMapping_{text_embed}_load_mask{load_mask}_subj_{subj}_mask_{mask_id}_tvl1_{tvl1_weight}_epoch_{epoch_num}'\n",
    "    os.makedirs(output_dir, exist_ok=True)\n",
    "    # Command to run the Python script with arguments\n",
    "    python_command = f'python {script_name} '\n",
    "    python_command += f'--output_dir {output_dir} --load_mask {load_mask} --subj {subj} --mask_id {mask_id} --tvl1_weight {tvl1_weight} --epoch_num {epoch_num} --text_embed {text_embed}'\n",
    "\n",
    "    \n",
    "    text += python_command + '\"\\n'\n",
    "\n",
    "    # Save the sbatch script to a file\n",
    "    job_file = f'/scratch/cl6707/Projects/neuro_interp/jobs/LinearMapping_{text_embed}_loadmask_{load_mask}_subj_{subj}_mask_{mask_id}_tvl1_{tvl1_weight}_epoch_{epoch_num}.sh'\n",
    "    f = open(job_file, 'w+')\n",
    "    f.write(text)\n",
    "    f.close()\n",
    "    print(f'sbatch {job_file}')\n",
    "    return '\\n'.join(text.split('\\n')[-3:])[:-2] +'\\n'\n"
   ]
  },
  {
   "cell_type": "markdown",
   "metadata": {},
   "source": [
    "## subj1 masks for each run"
   ]
  },
  {
   "cell_type": "code",
   "execution_count": 5,
   "metadata": {},
   "outputs": [
    {
     "name": "stdout",
     "output_type": "stream",
     "text": [
      "sbatch /scratch/cl6707/Projects/neuro_interp/jobs/LinearMapping_guse_loadmask_1_subj_1_mask_0_tvl1_0.001_epoch_10.sh\n",
      "sbatch /scratch/cl6707/Projects/neuro_interp/jobs/LinearMapping_guse_loadmask_1_subj_1_mask_1_tvl1_0.001_epoch_10.sh\n",
      "sbatch /scratch/cl6707/Projects/neuro_interp/jobs/LinearMapping_guse_loadmask_1_subj_1_mask_2_tvl1_0.001_epoch_10.sh\n",
      "sbatch /scratch/cl6707/Projects/neuro_interp/jobs/LinearMapping_guse_loadmask_1_subj_1_mask_3_tvl1_0.001_epoch_10.sh\n",
      "sbatch /scratch/cl6707/Projects/neuro_interp/jobs/LinearMapping_guse_loadmask_1_subj_1_mask_4_tvl1_0.001_epoch_10.sh\n",
      "sbatch /scratch/cl6707/Projects/neuro_interp/jobs/LinearMapping_guse_loadmask_1_subj_1_mask_5_tvl1_0.001_epoch_10.sh\n",
      "sbatch /scratch/cl6707/Projects/neuro_interp/jobs/LinearMapping_guse_loadmask_1_subj_1_mask_6_tvl1_0.001_epoch_10.sh\n",
      "sbatch /scratch/cl6707/Projects/neuro_interp/jobs/LinearMapping_guse_loadmask_1_subj_1_mask_7_tvl1_0.001_epoch_10.sh\n",
      "sbatch /scratch/cl6707/Projects/neuro_interp/jobs/LinearMapping_guse_loadmask_1_subj_1_mask_8_tvl1_0.001_epoch_10.sh\n",
      "sbatch /scratch/cl6707/Projects/neuro_interp/jobs/LinearMapping_guse_loadmask_1_subj_1_mask_9_tvl1_0.001_epoch_10.sh\n",
      "sbatch /scratch/cl6707/Projects/neuro_interp/jobs/LinearMapping_guse_loadmask_1_subj_1_mask_10_tvl1_0.001_epoch_10.sh\n",
      "sbatch /scratch/cl6707/Projects/neuro_interp/jobs/LinearMapping_guse_loadmask_1_subj_1_mask_11_tvl1_0.001_epoch_10.sh\n",
      "sbatch /scratch/cl6707/Projects/neuro_interp/jobs/LinearMapping_guse_loadmask_1_subj_1_mask_12_tvl1_0.001_epoch_10.sh\n",
      "sbatch /scratch/cl6707/Projects/neuro_interp/jobs/LinearMapping_guse_loadmask_1_subj_1_mask_13_tvl1_0.001_epoch_10.sh\n"
     ]
    }
   ],
   "source": [
    "for load_mask in [1]:\n",
    "    for subj in [1]:\n",
    "        for mask_id in range(14):\n",
    "            for tvl1_weight in [1e-3]:\n",
    "                for epoch_num in [10]:\n",
    "                    for text_embed in ['guse']:\n",
    "                        hour = 3\n",
    "                        minute = 0\n",
    "                        generate_sbatch_LinearMapping(load_mask=load_mask,subj=subj,mask_id=mask_id,tvl1_weight=tvl1_weight,epoch_num=epoch_num,text_embed=text_embed,hour=hour,minute=minute)"
   ]
  },
  {
   "cell_type": "code",
   "execution_count": 4,
   "metadata": {},
   "outputs": [
    {
     "name": "stdout",
     "output_type": "stream",
     "text": [
      "sbatch /scratch/cl6707/Projects/neuro_interp/jobs/LinearMapping_guse_loadmask_1_subj_1_mask_0_tvl1_0.001_epoch_30.sh\n",
      "sbatch /scratch/cl6707/Projects/neuro_interp/jobs/LinearMapping_guse_loadmask_1_subj_1_mask_1_tvl1_0.001_epoch_30.sh\n",
      "sbatch /scratch/cl6707/Projects/neuro_interp/jobs/LinearMapping_guse_loadmask_1_subj_1_mask_2_tvl1_0.001_epoch_30.sh\n",
      "sbatch /scratch/cl6707/Projects/neuro_interp/jobs/LinearMapping_guse_loadmask_1_subj_1_mask_3_tvl1_0.001_epoch_30.sh\n",
      "sbatch /scratch/cl6707/Projects/neuro_interp/jobs/LinearMapping_guse_loadmask_1_subj_1_mask_4_tvl1_0.001_epoch_30.sh\n",
      "sbatch /scratch/cl6707/Projects/neuro_interp/jobs/LinearMapping_guse_loadmask_1_subj_1_mask_5_tvl1_0.001_epoch_30.sh\n",
      "sbatch /scratch/cl6707/Projects/neuro_interp/jobs/LinearMapping_guse_loadmask_1_subj_1_mask_6_tvl1_0.001_epoch_30.sh\n",
      "sbatch /scratch/cl6707/Projects/neuro_interp/jobs/LinearMapping_guse_loadmask_1_subj_1_mask_7_tvl1_0.001_epoch_30.sh\n",
      "sbatch /scratch/cl6707/Projects/neuro_interp/jobs/LinearMapping_guse_loadmask_1_subj_1_mask_8_tvl1_0.001_epoch_30.sh\n",
      "sbatch /scratch/cl6707/Projects/neuro_interp/jobs/LinearMapping_guse_loadmask_1_subj_1_mask_9_tvl1_0.001_epoch_30.sh\n",
      "sbatch /scratch/cl6707/Projects/neuro_interp/jobs/LinearMapping_guse_loadmask_1_subj_1_mask_10_tvl1_0.001_epoch_30.sh\n",
      "sbatch /scratch/cl6707/Projects/neuro_interp/jobs/LinearMapping_guse_loadmask_1_subj_1_mask_11_tvl1_0.001_epoch_30.sh\n",
      "sbatch /scratch/cl6707/Projects/neuro_interp/jobs/LinearMapping_guse_loadmask_1_subj_1_mask_12_tvl1_0.001_epoch_30.sh\n",
      "sbatch /scratch/cl6707/Projects/neuro_interp/jobs/LinearMapping_guse_loadmask_1_subj_1_mask_13_tvl1_0.001_epoch_30.sh\n"
     ]
    }
   ],
   "source": [
    "for load_mask in [1]:\n",
    "    for subj in [1]:\n",
    "        for mask_id in range(14):\n",
    "            for tvl1_weight in [1e-3]:\n",
    "                for epoch_num in [30]:\n",
    "                    for text_embed in ['guse']:\n",
    "                        hour = 3\n",
    "                        minute = 0\n",
    "                        generate_sbatch_LinearMapping(load_mask=load_mask,subj=subj,mask_id=mask_id,tvl1_weight=tvl1_weight,epoch_num=epoch_num,text_embed=text_embed,hour=hour,minute=minute)"
   ]
  }
 ],
 "metadata": {
  "kernelspec": {
   "display_name": "Python 3",
   "language": "python",
   "name": "python3"
  },
  "language_info": {
   "codemirror_mode": {
    "name": "ipython",
    "version": 3
   },
   "file_extension": ".py",
   "mimetype": "text/x-python",
   "name": "python",
   "nbconvert_exporter": "python",
   "pygments_lexer": "ipython3",
   "version": "3.10.13"
  }
 },
 "nbformat": 4,
 "nbformat_minor": 2
}
